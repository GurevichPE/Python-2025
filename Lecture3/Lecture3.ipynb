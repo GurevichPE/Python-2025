{
 "cells": [
  {
   "cell_type": "markdown",
   "id": "c1408093",
   "metadata": {},
   "source": [
    "## Демонстрация лекционного материала\n",
    "\n",
    "### LEGB: Local, Enclosing, Global, Built-in\n",
    "\n",
    "1. L (Local) - локальная область видимости функции\n",
    "2. E (Enclosing) - область видимости внешней функции (для вложенных функций)\n",
    "3. G (Global) - глобальная область видимости модуля\n",
    "4. B (Built-in) - встроенные функции и объекты Python\n",
    "\n",
    "Python ищет переменные именно в таком порядке. Если переменная не найдена в одной области, поиск продолжается в следующей."
   ]
  },
  {
   "cell_type": "code",
   "execution_count": null,
   "id": "584987bb",
   "metadata": {},
   "outputs": [],
   "source": [
    "# Глобальная переменная\n",
    "global_var = \"Я глобальная переменная\"\n",
    "\n",
    "def outer_function():\n",
    "    \"\"\"Демонстрирует области видимости LEGB.\"\"\"\n",
    "    enclosing_var = \"Я переменная внешней функции\"\n",
    "    \n",
    "    def inner_function():\n",
    "        \"\"\"Внутренняя функция для демонстрации LEGB.\"\"\"\n",
    "        local_var = \"Я локальная переменная\"\n",
    "        \n",
    "        print(f\"Local: {local_var}\")\n",
    "        print(f\"Enclosing: {enclosing_var}\")\n",
    "        print(f\"Global: {global_var}\")\n",
    "        print(f\"Built-in: {len([1, 2, 3])}\")  # len() - встроенная функция\n",
    "    \n",
    "    inner_function()\n",
    "\n",
    "outer_function()"
   ]
  },
  {
   "cell_type": "code",
   "execution_count": null,
   "id": "9033fbda",
   "metadata": {},
   "outputs": [],
   "source": [
    "x = \"глобальная x\"\n",
    "\n",
    "def demonstrate_name_conflict():\n",
    "    \"\"\"Демонстрирует конфликты имен в разных областях видимости.\"\"\"\n",
    "    x = \"локальная x\"\n",
    "    print(f\"Внутри функции: {x}\")\n",
    "    \n",
    "    def nested_function():\n",
    "        x = \"вложенная x\"\n",
    "        print(f\"Внутри вложенной функции: {x}\")\n",
    "    \n",
    "    nested_function()\n",
    "    print(f\"Снова внутри функции: {x}\")\n",
    "\n",
    "print(f\"Глобально: {x}\")\n",
    "demonstrate_name_conflict()\n",
    "print(f\"После функции: {x}\")"
   ]
  },
  {
   "cell_type": "markdown",
   "id": "b3e00177",
   "metadata": {},
   "source": [
    "### Пространства имен\n",
    "\n",
    "Пространство имён - это словарь, который связывает имена объектов с самими объектами. В Python есть несколько типов пространств имён:\n",
    "* Локальное пространство имён - создается при вызове функции\n",
    "* Глобальное пространство имён - создается при загрузке модуля\n",
    "* Встроенное пространство имён - содержит встроенные функции и объекты\n",
    "  \n",
    "Пространства имён изолированы друг от друга, что обеспечивает безопасность и предсказуемость кода.\n"
   ]
  },
  {
   "cell_type": "code",
   "execution_count": null,
   "id": "43b01173",
   "metadata": {},
   "outputs": [],
   "source": [
    "def demonstrate_namespaces():\n",
    "    \"\"\"Демонстрирует различные пространства имён.\"\"\"\n",
    "    \n",
    "    # Создаем переменные в разных областях видимости\n",
    "    local_var = 42\n",
    "    \n",
    "    def inner_func():\n",
    "        inner_var = \"внутренняя переменная\"\n",
    "        print(f\"Внутреннее пространство имён: {locals()}\")\n",
    "    \n",
    "    print(f\"Пространство имён функции: {locals()}\")\n",
    "    inner_func()\n",
    "\n",
    "demonstrate_namespaces()\n",
    "print(f\"Глобальное пространство имён содержит: {list(globals().keys())[:10]}...\")"
   ]
  },
  {
   "cell_type": "code",
   "execution_count": null,
   "id": "31c50aa7",
   "metadata": {},
   "outputs": [],
   "source": [
    "def function_a():\n",
    "    \"\"\"Первая функция с собственным пространством имён.\"\"\"\n",
    "    x = 10\n",
    "    y = 20\n",
    "    print(f\"function_a: x={x}, y={y}\")\n",
    "    return locals()\n",
    "\n",
    "def function_b():\n",
    "    \"\"\"Вторая функция с собственным пространством имён.\"\"\"\n",
    "    x = 100\n",
    "    z = 300\n",
    "    print(f\"function_b: x={x}, z={z}\")\n",
    "    return locals()\n",
    "\n",
    "namespace_a = function_a()\n",
    "namespace_b = function_b()\n",
    "\n",
    "print(f\"Пространство function_a: {namespace_a}\")\n",
    "print(f\"Пространство function_b: {namespace_b}\")\n",
    "print(f\"Переменные изолированы: {namespace_a != namespace_b}\")"
   ]
  },
  {
   "cell_type": "markdown",
   "id": "f245fb4d",
   "metadata": {},
   "source": [
    "### globals(), locals(), vars()\n",
    "\n",
    "Эти функции позволяют работать с пространствами имён:\n",
    "* globals() - возвращает словарь глобального пространства имён\n",
    "* locals() - возвращает словарь локального пространства имён\n",
    "* vars() - возвращает словарь атрибутов объекта или локальное пространство имён"
   ]
  },
  {
   "cell_type": "code",
   "execution_count": null,
   "id": "73870177",
   "metadata": {},
   "outputs": [],
   "source": [
    "# Глобальные переменные\n",
    "PI = 3.14159\n",
    "APP_NAME = \"Python Course\"\n",
    "\n",
    "def demonstrate_namespace_functions():\n",
    "    \"\"\"Демонстрирует использование globals(), locals(), vars().\"\"\"\n",
    "    \n",
    "    local_var = \"локальная переменная\"\n",
    "    another_var = 123\n",
    "    \n",
    "    print(\"=== globals() ===\")\n",
    "    global_vars = globals()\n",
    "    print(f\"Глобальные переменные: {list(global_vars.keys())[:5]}...\")\n",
    "    print(f\"PI = {global_vars['PI']}\")\n",
    "    \n",
    "    print(\"\\n=== locals() ===\")\n",
    "    local_vars = locals()\n",
    "    print(f\"Локальные переменные: {local_vars}\")\n",
    "    \n",
    "    print(\"\\n=== vars() для объекта ===\")\n",
    "    class Example:\n",
    "        def __init__(self):\n",
    "            self.attr1 = \"значение 1\"\n",
    "            self.attr2 = \"значение 2\"\n",
    "    \n",
    "    obj = Example()\n",
    "    print(f\"Атрибуты объекта: {vars(obj)}\")\n",
    "\n",
    "demonstrate_namespace_functions()"
   ]
  },
  {
   "cell_type": "markdown",
   "id": "76bbcb60",
   "metadata": {},
   "source": [
    "globals(), locals(), vars() могут быть использованы для работы с пространствами имён, например, для динамического создания переменных."
   ]
  },
  {
   "cell_type": "code",
   "execution_count": null,
   "id": "74ef3f6e",
   "metadata": {},
   "outputs": [],
   "source": [
    "def create_variables_dynamically() -> None:\n",
    "    \"\"\"Демонстрирует динамическое создание переменных в глобальном и локальном пространствах имён.\"\"\"\n",
    "    # Создаем переменные в глобальном пространстве\n",
    "    globals()['dynamic_var_1'] = \"динамически созданная переменная\"\n",
    "    globals()['dynamic_var_2'] = 42\n",
    "\n",
    "    print(f\"dynamic_var_1: {dynamic_var_1}\")\n",
    "    print(f\"dynamic_var_2: {dynamic_var_2}\")\n",
    "\n",
    "    # Демонстрируем создание локальной переменной через locals()\n",
    "    # Изменения в словаре, возвращаемом locals(), не влияют на локальные переменные в Python-функции\n",
    "    local_namespace = locals()\n",
    "    local_namespace['local_dynamic'] = \"локальная динамическая переменная\"\n",
    "    print(f\"local_namespace['local_dynamic']: {local_namespace['local_dynamic']}\")\n",
    "    # Попытка обратиться к local_dynamic напрямую вызовет ошибку\n",
    "\n",
    "create_variables_dynamically()"
   ]
  },
  {
   "cell_type": "markdown",
   "id": "c45a2171",
   "metadata": {},
   "source": [
    "Если мы хотим не только видеть, но и изменять глобальную переменную внутри функции, то мы должны использовать `global` перед именем переменной."
   ]
  },
  {
   "cell_type": "code",
   "execution_count": null,
   "id": "d4b6e98c",
   "metadata": {},
   "outputs": [],
   "source": [
    "AGE = 12\n",
    "\n",
    "def happy_birthday():\n",
    "    AGE += 1\n",
    "    print(f\"Happy birthday! Now you are {AGE} years old\")\n",
    "\n",
    "happy_birthday()"
   ]
  },
  {
   "cell_type": "code",
   "execution_count": null,
   "id": "e4adab70",
   "metadata": {},
   "outputs": [],
   "source": [
    "AGE = 12\n",
    "\n",
    "def happy_birthday():\n",
    "    global AGE\n",
    "    AGE += 1\n",
    "    print(f\"Happy birthday! Now you are {AGE} years old\")\n",
    "\n",
    "happy_birthday()\n",
    "happy_birthday()\n",
    "happy_birthday()"
   ]
  },
  {
   "cell_type": "markdown",
   "id": "2640e9ae",
   "metadata": {},
   "source": [
    "## Семинар 3.\n",
    "\n",
    "### Задание 1. \n",
    "\n",
    "Задача на LEGB. Напишите код для вычисления площади круга.\n",
    "\n",
    "Число пи должно быть вне функции.\n",
    "\n",
    "Радиус должен быть внутри внешней функции `calculate_circle()`. Внутри этой функции должна быть вложенная функция `calculate_area()`, которая будет вычислять площадь круга. \n",
    "\n",
    "В конце внешняя функция должна печатать площадь круга, округленную до 2 знаков после запятой (используйте `round()`).\n",
    "\n",
    "Укажите какие переменные относятся к локальным, enclosing, global, built-in. "
   ]
  },
  {
   "cell_type": "code",
   "execution_count": null,
   "id": "753b8df5",
   "metadata": {},
   "outputs": [],
   "source": [
    "# задайте число пи\n",
    "\n",
    "def calculate_circle():\n",
    "    # Ваш код\n",
    "\n",
    "    def calculate_area():\n",
    "        # Ваш код\n",
    "        return # Ваш код\n",
    "    # Ваш код\n"
   ]
  },
  {
   "cell_type": "markdown",
   "id": "3f013f96",
   "metadata": {},
   "source": [
    "### Задание 2. \n",
    "\n",
    "Напишите функцию, которая динамически создает переменные в глобальном пространстве имён. Переменные должны называться `var1`, `var2`, `var3` и т.д. и иметь значения 10, 20, 30 и т.д. соответственно. Диапазон переменных задаётся как параметр функции."
   ]
  },
  {
   "cell_type": "code",
   "execution_count": null,
   "id": "6647d790",
   "metadata": {},
   "outputs": [],
   "source": [
    "def create_variables(max_number:int = 3):\n",
    "    global_vars = globals()\n",
    "    \n",
    "    for i in range(1, max_number + 1):\n",
    "        var_name = ... # Ваш код\n",
    "        # Ваш код\n",
    "\n",
    "create_variables()\n",
    "print(f\"var1 = {var1}\")\n",
    "print(f\"var2 = {var2}\")\n",
    "print(f\"var3 = {var3}\")"
   ]
  },
  {
   "cell_type": "code",
   "execution_count": null,
   "id": "398d631d",
   "metadata": {},
   "outputs": [],
   "source": []
  },
  {
   "cell_type": "code",
   "execution_count": null,
   "id": "3dcea11e",
   "metadata": {},
   "outputs": [],
   "source": []
  }
 ],
 "metadata": {
  "kernelspec": {
   "display_name": "base",
   "language": "python",
   "name": "python3"
  },
  "language_info": {
   "codemirror_mode": {
    "name": "ipython",
    "version": 3
   },
   "file_extension": ".py",
   "mimetype": "text/x-python",
   "name": "python",
   "nbconvert_exporter": "python",
   "pygments_lexer": "ipython3",
   "version": "3.12.7"
  }
 },
 "nbformat": 4,
 "nbformat_minor": 5
}
