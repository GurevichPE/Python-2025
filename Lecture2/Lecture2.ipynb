{
 "cells": [
  {
   "cell_type": "markdown",
   "id": "4a533e03",
   "metadata": {},
   "source": [
    "## Демонстрация лекционного материала\n",
    "\n",
    "### Автоматическое управление памятью\n",
    "\n",
    "**Reference counting**\n",
    "\n",
    "Каждый объект имеет счетчик ссылок. Когда ссылка на объект удаляется, счетчик уменьшается. Когда счетчик достигает 0, объект удаляется.\n",
    "\n",
    "Узнать количество ссылок на объект можно с помощью функции `sys.getrefcount`.\n",
    "\n",
    "Важно отметить, что при вызове `sys.getrefcount` создаётся временная ссылка, поэтому количество ссылок на объект будет на 1 больше, чем фактическое количество ссылок."
   ]
  },
  {
   "cell_type": "code",
   "execution_count": null,
   "id": "6f7491a8",
   "metadata": {},
   "outputs": [],
   "source": [
    "import sys\n",
    "\n",
    "def demonstrate_reference_counting():\n",
    "    \"\"\"Демонстрирует работу reference counting.\"\"\"\n",
    "    \n",
    "    # Создаем объект\n",
    "    obj = [1, 2, 3]\n",
    "    print(f\"Счетчик ссылок: {sys.getrefcount(obj)}\")\n",
    "    \n",
    "    # Создаем еще одну ссылку\n",
    "    obj2 = obj\n",
    "    print(f\"После создания ссылки: {sys.getrefcount(obj)}\")\n",
    "    \n",
    "    # Удаляем ссылку\n",
    "    del obj2\n",
    "    print(f\"После удаления ссылки: {sys.getrefcount(obj)}\")\n",
    "    \n",
    "    # Удаляем оригинальную ссылку\n",
    "    del obj\n",
    "    # Объект автоматически удаляется\n",
    "\n",
    "demonstrate_reference_counting()"
   ]
  },
  {
   "cell_type": "markdown",
   "id": "4eab4dc4",
   "metadata": {},
   "source": [
    "**Garbage collection**\n",
    "\n",
    "Иногда в коде возникают так называемые циклические ссылки. Например, если объект A содержит ссылку на объект B, а объект B содержит ссылку на объект A, то эти объекты не будут удалены через reference counting, потому что счетчик ссылок никогда не будет равен 0.\n",
    "\n",
    "Для решения этой проблемы используется garbage collection. Сборщик мусора периодически проверяет объекты и удаляет те, которые не используются.\n",
    "\n",
    "Для отслеживания и управления процессом garbage collection используется модуль `gc`. Например, чтобы запустить сборщик мусора, можно использовать функцию `gc.collect()`."
   ]
  },
  {
   "cell_type": "code",
   "execution_count": null,
   "id": "be1736b7",
   "metadata": {},
   "outputs": [],
   "source": [
    "import gc\n",
    "\n",
    "class Node:\n",
    "    def __init__(self, name: str):\n",
    "        self.name = name\n",
    "        self.ref = None\n",
    "        \n",
    "    def __del__(self):\n",
    "        print(f\"Объект {self.name} удален\")\n",
    "\n",
    "def demonstrate_garbage_collection():\n",
    "    \"\"\"Демонстрирует работу сборщика мусора Python.\"\"\"\n",
    "    print(\"=== Демонстрация циклических ссылок ===\")\n",
    "    \n",
    "    # Отключаем автоматический сборщик мусора\n",
    "    gc.disable()\n",
    "    \n",
    "    # Создаем циклические ссылки\n",
    "    node_a = Node(\"A\")\n",
    "    node_b = Node(\"B\")\n",
    "    \n",
    "    # Создаем циклическую ссылку\n",
    "    node_a.ref = node_b\n",
    "    node_b.ref = node_a\n",
    "    \n",
    "    print(f\"Объектов в памяти до удаления ссылок: {len([o for o in gc.get_objects() if isinstance(o, Node)])}\")\n",
    "    \n",
    "    # Удаляем локальные ссылки\n",
    "    del node_a, node_b\n",
    "    \n",
    "    print(f\"Объектов в памяти после удаления ссылок: {len([o for o in gc.get_objects() if isinstance(o, Node)])}\")\n",
    "    print(\"Объекты не удалены из-за циклических ссылок\")\n",
    "    \n",
    "    # Запускаем сборщик мусора вручную\n",
    "    print(\"\\nЗапуск сборщика мусора...\")\n",
    "    collected = gc.collect()\n",
    "    print(f\"Собрано объектов: {collected}\")\n",
    "    print(f\"Объектов в памяти после gc: {len([o for o in gc.get_objects() if isinstance(o, Node)])}\")\n",
    "    # Включаем автоматический сборщик мусора обратно\n",
    "    gc.enable()\n",
    "\n",
    "\n",
    "demonstrate_garbage_collection()\n"
   ]
  },
  {
   "cell_type": "markdown",
   "id": "0ae73040",
   "metadata": {},
   "source": [
    "### Копирование объектов\n",
    "\n",
    "**Наивное копирование объектов**"
   ]
  },
  {
   "cell_type": "code",
   "execution_count": null,
   "id": "b24d106d",
   "metadata": {},
   "outputs": [],
   "source": [
    "original_number = 10\n",
    "naive_copied_number = original_number\n",
    "\n",
    "original_number += 1\n",
    "\n",
    "print(original_number, naive_copied_number) # изменилось только оригинальное число"
   ]
  },
  {
   "cell_type": "code",
   "execution_count": null,
   "id": "066daff1",
   "metadata": {},
   "outputs": [],
   "source": [
    "original_list = [1, 2, 3]\n",
    "naive_copied_list = original_list\n",
    "\n",
    "original_list.append(4)\n",
    "\n",
    "print(original_list, naive_copied_list) # оба списка изменились!"
   ]
  },
  {
   "cell_type": "markdown",
   "id": "026e004c",
   "metadata": {},
   "source": [
    "Как мы видим, если (для списков) мы присваиваем переменной значение другой переменной, то они ссылаются на один и тот же объект.\n",
    "\n",
    "Однако, мы можем вручную скопировать список через цикл или через list comprehension.\n",
    "\n",
    "Также можно использовать метод `copy` из модуля `copy`."
   ]
  },
  {
   "cell_type": "code",
   "execution_count": null,
   "id": "b27f1351",
   "metadata": {},
   "outputs": [],
   "source": [
    "from copy import copy\n",
    "\n",
    "def _loop_copy(lst:list) -> list:\n",
    "    copied = []\n",
    "    for elem in lst:\n",
    "        copied.append(elem)\n",
    "    return copied\n",
    "\n",
    "def _list_comp_copy(lst:list) -> list:\n",
    "    return [elem for elem in lst]\n",
    "\n",
    "\n",
    "original_list = [1, 2, 3]\n",
    "\n",
    "loop_copied = _loop_copy(original_list)\n",
    "list_comp_copied = _list_comp_copy(original_list)\n",
    "copy_copied = copy(original_list)\n",
    "\n",
    "original_list.append(4)\n",
    "\n",
    "print(original_list)\n",
    "print(loop_copied)\n",
    "print(list_comp_copied)\n",
    "print(copy_copied)"
   ]
  },
  {
   "cell_type": "markdown",
   "id": "eede0e40",
   "metadata": {},
   "source": [
    "Однако, со списками списков всё сложнее. "
   ]
  },
  {
   "cell_type": "code",
   "execution_count": null,
   "id": "21486e18",
   "metadata": {},
   "outputs": [],
   "source": [
    "list_of_lists = [\n",
    "    [0, 1],\n",
    "    [3, 4]\n",
    "]\n",
    "\n",
    "naive_copy = list_of_lists\n",
    "loop_copy = _loop_copy(list_of_lists)\n",
    "list_comp_copy = _list_comp_copy(list_of_lists)\n",
    "copy_copy = copy(list_of_lists)\n",
    "\n",
    "list_of_lists.append([5, 6]) # Изменится только у naive_copy,\n",
    "                             # потому что скопирована ссылка на тот же объект\n",
    "\n",
    "list_of_lists[0].append(2)   # А вот тут 2 добавится ко всем объектам, потому что мы скопировали\n",
    "                             # только внешний список, а внутренние отсылают к оригинальным объектам\n",
    "print(list_of_lists)\n",
    "print(naive_copy)\n",
    "print(loop_copy)\n",
    "print(list_comp_copy)\n",
    "print(copy_copy)"
   ]
  },
  {
   "cell_type": "markdown",
   "id": "51aeeffe",
   "metadata": {},
   "source": [
    "Чтобы скопировать сложный объект (список списков или словарь содержащий списки или словарь словарей), нужно использовать метод `deepcopy` модуля `copy`. Он рекурсивно копирует все объекты вложенные в исходный объект."
   ]
  },
  {
   "cell_type": "code",
   "execution_count": null,
   "id": "c598268d",
   "metadata": {},
   "outputs": [],
   "source": [
    "from copy import deepcopy\n",
    "\n",
    "list_of_lists = [\n",
    "    [0, 1],\n",
    "    [3, 4]\n",
    "]\n",
    "\n",
    "deep_copy = deepcopy(list_of_lists)\n",
    "\n",
    "list_of_lists.append([5, 6])\n",
    "list_of_lists[0].append(2)   \n",
    "                             \n",
    "print(list_of_lists)\n",
    "print(deep_copy)"
   ]
  },
  {
   "cell_type": "markdown",
   "id": "75ff08c5",
   "metadata": {},
   "source": [
    "### Переиспользование объектов\n",
    "\n",
    "По сути -- повторение с прошлой лекции. Python использует таблицу ссылок, чтобы не создавать новые объекты, а переиспользовать уже существующие для небольших чисел и строк."
   ]
  },
  {
   "cell_type": "code",
   "execution_count": null,
   "id": "b3a14a5c",
   "metadata": {},
   "outputs": [],
   "source": [
    "def demonstrate_object_reuse():\n",
    "    \"\"\"Демонстрирует переиспользование объектов Python.\"\"\"\n",
    "    \n",
    "    # Маленькие целые числа переиспользуются\n",
    "    a = 5\n",
    "    b = 5\n",
    "    print(f\"a is b для 5: {a is b}\")  # True\n",
    "    \n",
    "    # Строки тоже могут переиспользоваться\n",
    "    s1 = \"hello\"\n",
    "    s2 = \"hello\"\n",
    "    print(f\"s1 is s2 для 'hello': {s1 is s2}\")  # True\n",
    "    \n",
    "    # Но не всегда!\n",
    "    s3 = \"hello world\" * 1000\n",
    "    s4 = \"hello world\" * 1000\n",
    "    print(f\"s3 is s4 для длинных строк: {s3 is s4}\")  # Может быть False\n",
    "\n",
    "    slovo = \"slovo\"\n",
    "    slo = \"slo\"\n",
    "    vo = \"vo\"\n",
    "    also_slovo = slo + vo\n",
    "    print(slovo, also_slovo)\n",
    "    print(slovo == also_slovo, slovo is also_slovo)\n",
    "\n",
    "\n",
    "demonstrate_object_reuse()"
   ]
  },
  {
   "cell_type": "markdown",
   "id": "6af80fe7",
   "metadata": {},
   "source": [
    "## Семинар 2.\n",
    "\n",
    "### Задание 1. \n",
    "\n",
    "Напишите собственную функцию `my_deepcopy`. Известно, что на вход подается список списков (любой глубины вложенности). Можно использовать `copy.copy` в реализации. `copy.deepcopy` не использовать."
   ]
  },
  {
   "cell_type": "code",
   "execution_count": null,
   "id": "ff4efda5",
   "metadata": {},
   "outputs": [],
   "source": [
    "from copy import copy, deepcopy\n",
    "\n",
    "def my_deepcopy(lst:list) -> list:\n",
    "    # Ваш код\n",
    "    return ...\n",
    "\n",
    "list_of_lists = [\n",
    "    ['a', 'b'],\n",
    "    ['c'],\n",
    "    [1, [2, [3, 4, 5]]]\n",
    "]\n",
    "\n",
    "deep_copy = deepcopy(list_of_lists)\n",
    "my_deep_copy = my_deepcopy(list_of_lists)\n",
    "\n",
    "list_of_lists.append([\"e\", \"f\"])\n",
    "list_of_lists[1].append(\"d\")\n",
    "list_of_lists[2][1][1].append(\"Hello!\")\n",
    "\n",
    "print(deep_copy == my_deep_copy)"
   ]
  },
  {
   "cell_type": "markdown",
   "id": "8d564f64",
   "metadata": {},
   "source": [
    "### Задание 2.\n",
    "\n",
    "Изучите функцию, приведённую ниже. Что в ней не так? В чём некорректность? Что нужно исправить? Как?"
   ]
  },
  {
   "cell_type": "code",
   "execution_count": null,
   "id": "722e1a0d",
   "metadata": {},
   "outputs": [],
   "source": [
    "\n",
    "def magical_append(item, lst:list = []) -> list:\n",
    "    lst.append(item)\n",
    "    return lst\n"
   ]
  },
  {
   "cell_type": "code",
   "execution_count": null,
   "id": "82ccefb6",
   "metadata": {},
   "outputs": [],
   "source": []
  }
 ],
 "metadata": {
  "kernelspec": {
   "display_name": "base",
   "language": "python",
   "name": "python3"
  },
  "language_info": {
   "codemirror_mode": {
    "name": "ipython",
    "version": 3
   },
   "file_extension": ".py",
   "mimetype": "text/x-python",
   "name": "python",
   "nbconvert_exporter": "python",
   "pygments_lexer": "ipython3",
   "version": "3.12.7"
  }
 },
 "nbformat": 4,
 "nbformat_minor": 5
}
