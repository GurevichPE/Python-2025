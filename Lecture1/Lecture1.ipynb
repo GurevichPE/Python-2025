{
 "cells": [
  {
   "cell_type": "markdown",
   "id": "a67c239b",
   "metadata": {},
   "source": [
    "## Демонстрация лекционного материала\n",
    "\n",
    "### Оптимизация констант"
   ]
  },
  {
   "cell_type": "code",
   "execution_count": null,
   "id": "e39db850",
   "metadata": {},
   "outputs": [],
   "source": [
    "a = 10\n",
    "b = 10\n",
    "print(f\"a is b: {a is b}\")\n",
    "print(f\"a == b: {a == b}\")"
   ]
  },
  {
   "cell_type": "code",
   "execution_count": null,
   "id": "6f53f461",
   "metadata": {},
   "outputs": [],
   "source": [
    "x = 100500\n",
    "y = 100500\n",
    "print(f\"x is y: {x is y}\")\n",
    "print(f\"x == y: {x == y}\")"
   ]
  },
  {
   "cell_type": "markdown",
   "id": "254e318c",
   "metadata": {},
   "source": [
    "### Всё это объект"
   ]
  },
  {
   "cell_type": "code",
   "execution_count": null,
   "id": "90335b21",
   "metadata": {},
   "outputs": [],
   "source": [
    "def explore_object(obj, name):\n",
    "    \"\"\"Исследует объект и выводит информацию о нем.\"\"\"\n",
    "    print(f\"\\n=== {name} ===\")\n",
    "    print(f\"Значение: {obj}\")\n",
    "    print(f\"Тип: {type(obj)}\")\n",
    "    print(f\"ID: {id(obj)}\")\n",
    "    print(f\"Методы: {dir(obj)}\")\n",
    "\n",
    "\n",
    "explore_object(42, \"Целое число\")\n",
    "explore_object(\"Hello\", \"Строка\")\n",
    "explore_object([1, 2, 3], \"Список\")"
   ]
  },
  {
   "cell_type": "markdown",
   "id": "9c36c542",
   "metadata": {},
   "source": [
    "### Исследование объектов. Функции id, type, isinstance\n",
    "\n",
    "`id` - возвращает уникальный идентификатор объекта\n",
    "\n",
    "`type` - возвращает тип объекта\n",
    "\n",
    "`isinstance` - проверяет, является ли объект экземпляром класса"
   ]
  },
  {
   "cell_type": "code",
   "execution_count": null,
   "id": "3a801e31",
   "metadata": {},
   "outputs": [],
   "source": [
    "x = [1, 2, 3]\n",
    "y = [1, 2, 3]\n",
    "print(id(x))  \n",
    "print(id(y))  \n",
    "print(x is y)  # False - разные объекты"
   ]
  },
  {
   "cell_type": "code",
   "execution_count": null,
   "id": "471469e8",
   "metadata": {},
   "outputs": [],
   "source": [
    "a = 10\n",
    "b = 10\n",
    "print(f\"id a = {id(a)}\\nid b = {id(b)}\\n\")\n",
    "\n",
    "x = 100500\n",
    "y = 100500\n",
    "print(f\"id x = {id(x)}\\nid y = {id(y)}\")"
   ]
  },
  {
   "cell_type": "code",
   "execution_count": null,
   "id": "e637a29a",
   "metadata": {},
   "outputs": [],
   "source": [
    "print(type(42))        # <class 'int'>\n",
    "print(type(\"hello\"))   # <class 'str'>\n",
    "print(type([1, 2, 3])) # <class 'list'>"
   ]
  },
  {
   "cell_type": "code",
   "execution_count": null,
   "id": "a9024866",
   "metadata": {},
   "outputs": [],
   "source": [
    "x = [1, 2, 3]\n",
    "print(isinstance(x, list))                # True\n",
    "print(isinstance(x, str))                 # False\n",
    "print(isinstance(x, object))              # True - всё наследуется от object\n",
    "print(isinstance(x, (str, list, tuple)))  # Можно перечислить в скобках, какие типы ищем"
   ]
  },
  {
   "cell_type": "markdown",
   "id": "08f6b927",
   "metadata": {},
   "source": [
    "### Неизменяемые типы данных\n",
    "\n",
    "* `str` - строка\n",
    "* `int` - целое число\n",
    "* `float` - вещественное число\n",
    "* `bool` - булево значение (`True`/`False`)\n",
    "* `tuple` - кортеж\n",
    "* `frozenset` - неизменяемое множество\n",
    "\n",
    "Любая попытка изменить неизменяемый объект создает новый объект, а не модифицирует существующий. Это можно увидеть по изменению id объекта."
   ]
  },
  {
   "cell_type": "code",
   "execution_count": null,
   "id": "016dde73",
   "metadata": {},
   "outputs": [],
   "source": [
    "number = 1\n",
    "print(id(number))\n",
    "number += 1\n",
    "print(id(number))\n",
    "number = number + 1\n",
    "print(id(number))"
   ]
  },
  {
   "cell_type": "code",
   "execution_count": null,
   "id": "cc9eebae",
   "metadata": {},
   "outputs": [],
   "source": [
    "string = \"I like Python\"\n",
    "print(id(string))\n",
    "string += \"very much\"\n",
    "print(id(string))\n",
    "string = string + \"!\"\n",
    "print(id(string))\n",
    "string = string[:13]\n",
    "print(id(string))"
   ]
  },
  {
   "cell_type": "markdown",
   "id": "8e8711ab",
   "metadata": {},
   "source": [
    "### Изменяемые типы данных\n",
    "\n",
    "* `list` - список\n",
    "* `dict` - словарь\n",
    "* `set` - множество\n",
    "\n",
    "При создании изменяемого объекта, в переменной хранится ссылка на \"тело\" объекта. Содержимое объекта может быть изменено без создания нового объекта. Это можно увидеть по тому, что id объекта не изменяется."
   ]
  },
  {
   "cell_type": "code",
   "execution_count": null,
   "id": "fd0534dd",
   "metadata": {},
   "outputs": [],
   "source": [
    "x = [1, 2, 3]\n",
    "print(f\"x: {x}; {\" \" * (12)}id x: {id(x)}\")\n",
    "x.append(4)\n",
    "print(f\"x: {x}; {\" \" * (9)}id x: {id(x)}\")\n",
    "x += [5]\n",
    "print(f\"x: {x}; {\" \" * (6)}id x: {id(x)}\")\n",
    "x = x + [6]                      # здесь мы пересоздаём объект\n",
    "print(f\"x: {x}; {\" \" * (3)}id x: {id(x)}\")  # поэтому id поменяется"
   ]
  },
  {
   "cell_type": "markdown",
   "id": "95e8f8f9",
   "metadata": {},
   "source": [
    "## Семинар. Самостоятельная работа\n",
    "\n",
    "### Повторение базового синтаксиса"
   ]
  },
  {
   "cell_type": "code",
   "execution_count": null,
   "id": "7b519348",
   "metadata": {},
   "outputs": [],
   "source": [
    "# Переменные\n",
    "name = \"Python\"\n",
    "age = 30\n",
    "\n",
    "# Условия\n",
    "if age > 18:\n",
    "    print(\"Взрослый\")\n",
    "else:\n",
    "    print(\"Ребенок\")\n",
    "\n",
    "# Циклы\n",
    "for i in range(5):\n",
    "    print(i)\n",
    "\n",
    "\n",
    "# Функции\n",
    "def greet(name):\n",
    "    return f\"Привет, {name}!\"\n",
    "greet(\"Паша\")"
   ]
  },
  {
   "cell_type": "markdown",
   "id": "2ac5c313",
   "metadata": {},
   "source": [
    "### Задание 1\n",
    "\n",
    "Установите пределы, в которых целые числа кэшируются."
   ]
  },
  {
   "cell_type": "code",
   "execution_count": null,
   "id": "7a5598d3",
   "metadata": {},
   "outputs": [],
   "source": [
    "# Ваш код"
   ]
  },
  {
   "cell_type": "markdown",
   "id": "3a997799",
   "metadata": {},
   "source": [
    "### Задание 2\n",
    "\n",
    "Напишите функцию, которая добавляет в список заданный элемент, только если он -- целое или вещественное число."
   ]
  },
  {
   "cell_type": "code",
   "execution_count": null,
   "id": "a41292fe",
   "metadata": {},
   "outputs": [],
   "source": [
    "def append_number(lst, num):\n",
    "    if # условие того, что `num` - это число.:\n",
    "        ...  # Ваш код\n",
    "    else:\n",
    "        print(\"Функция не выполнена. num должен быть числом\")\n",
    "\n",
    "\n",
    "lst = [1, 2]\n",
    "append_number(lst, 3)\n",
    "append_number(lst, 4.2)\n",
    "append_number(lst, \"21\")\n",
    "print(lst)\n"
   ]
  },
  {
   "cell_type": "markdown",
   "id": "1476663d",
   "metadata": {},
   "source": [
    "### Задание 3\n",
    "\n",
    "Проверьте поведение оператора `is` для больших чисел внутри функции. "
   ]
  },
  {
   "cell_type": "code",
   "execution_count": null,
   "id": "3f42ac2f",
   "metadata": {},
   "outputs": [],
   "source": []
  },
  {
   "cell_type": "code",
   "execution_count": null,
   "id": "4b3f5946",
   "metadata": {},
   "outputs": [],
   "source": []
  }
 ],
 "metadata": {
  "kernelspec": {
   "display_name": ".venv",
   "language": "python",
   "name": "python3"
  },
  "language_info": {
   "codemirror_mode": {
    "name": "ipython",
    "version": 3
   },
   "file_extension": ".py",
   "mimetype": "text/x-python",
   "name": "python",
   "nbconvert_exporter": "python",
   "pygments_lexer": "ipython3",
   "version": "3.13.4"
  }
 },
 "nbformat": 4,
 "nbformat_minor": 5
}
