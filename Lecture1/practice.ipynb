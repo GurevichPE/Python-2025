{
 "cells": [
  {
   "cell_type": "markdown",
   "id": "a67c239b",
   "metadata": {},
   "source": [
    "## Демонстрация лекционного материала\n",
    "\n",
    "### Оптимизация констант"
   ]
  },
  {
   "cell_type": "code",
   "execution_count": 21,
   "id": "e39db850",
   "metadata": {},
   "outputs": [
    {
     "name": "stdout",
     "output_type": "stream",
     "text": [
      "a is b: True\n",
      "a == b: True\n"
     ]
    }
   ],
   "source": [
    "a = 10\n",
    "b = 10\n",
    "print(f\"a is b: {a is b}\")\n",
    "print(f\"a == b: {a == b}\")"
   ]
  },
  {
   "cell_type": "code",
   "execution_count": 22,
   "id": "6f53f461",
   "metadata": {},
   "outputs": [
    {
     "name": "stdout",
     "output_type": "stream",
     "text": [
      "x is y: False\n",
      "x == y: True\n"
     ]
    }
   ],
   "source": [
    "x = 100500\n",
    "y = 100500\n",
    "print(f\"x is y: {x is y}\")\n",
    "print(f\"x == y: {x == y}\")"
   ]
  },
  {
   "cell_type": "markdown",
   "id": "254e318c",
   "metadata": {},
   "source": [
    "### Всё это объект"
   ]
  },
  {
   "cell_type": "code",
   "execution_count": 23,
   "id": "90335b21",
   "metadata": {},
   "outputs": [
    {
     "name": "stdout",
     "output_type": "stream",
     "text": [
      "\n",
      "=== Целое число ===\n",
      "Значение: 42\n",
      "Тип: <class 'int'>\n",
      "ID: 140712105298120\n",
      "Методы: ['__abs__', '__add__', '__and__', '__bool__', '__ceil__', '__class__', '__delattr__', '__dir__', '__divmod__', '__doc__', '__eq__', '__float__', '__floor__', '__floordiv__', '__format__', '__ge__', '__getattribute__', '__getnewargs__', '__getstate__', '__gt__', '__hash__', '__index__', '__init__', '__init_subclass__', '__int__', '__invert__', '__le__', '__lshift__', '__lt__', '__mod__', '__mul__', '__ne__', '__neg__', '__new__', '__or__', '__pos__', '__pow__', '__radd__', '__rand__', '__rdivmod__', '__reduce__', '__reduce_ex__', '__repr__', '__rfloordiv__', '__rlshift__', '__rmod__', '__rmul__', '__ror__', '__round__', '__rpow__', '__rrshift__', '__rshift__', '__rsub__', '__rtruediv__', '__rxor__', '__setattr__', '__sizeof__', '__str__', '__sub__', '__subclasshook__', '__truediv__', '__trunc__', '__xor__', 'as_integer_ratio', 'bit_count', 'bit_length', 'conjugate', 'denominator', 'from_bytes', 'imag', 'is_integer', 'numerator', 'real', 'to_bytes']\n",
      "\n",
      "=== Строка ===\n",
      "Значение: Hello\n",
      "Тип: <class 'str'>\n",
      "ID: 2354912442048\n",
      "Методы: ['__add__', '__class__', '__contains__', '__delattr__', '__dir__', '__doc__', '__eq__', '__format__', '__ge__', '__getattribute__', '__getitem__', '__getnewargs__', '__getstate__', '__gt__', '__hash__', '__init__', '__init_subclass__', '__iter__', '__le__', '__len__', '__lt__', '__mod__', '__mul__', '__ne__', '__new__', '__reduce__', '__reduce_ex__', '__repr__', '__rmod__', '__rmul__', '__setattr__', '__sizeof__', '__str__', '__subclasshook__', 'capitalize', 'casefold', 'center', 'count', 'encode', 'endswith', 'expandtabs', 'find', 'format', 'format_map', 'index', 'isalnum', 'isalpha', 'isascii', 'isdecimal', 'isdigit', 'isidentifier', 'islower', 'isnumeric', 'isprintable', 'isspace', 'istitle', 'isupper', 'join', 'ljust', 'lower', 'lstrip', 'maketrans', 'partition', 'removeprefix', 'removesuffix', 'replace', 'rfind', 'rindex', 'rjust', 'rpartition', 'rsplit', 'rstrip', 'split', 'splitlines', 'startswith', 'strip', 'swapcase', 'title', 'translate', 'upper', 'zfill']\n",
      "\n",
      "=== Список ===\n",
      "Значение: [1, 2, 3]\n",
      "Тип: <class 'list'>\n",
      "ID: 2354892861184\n",
      "Методы: ['__add__', '__class__', '__class_getitem__', '__contains__', '__delattr__', '__delitem__', '__dir__', '__doc__', '__eq__', '__format__', '__ge__', '__getattribute__', '__getitem__', '__getstate__', '__gt__', '__hash__', '__iadd__', '__imul__', '__init__', '__init_subclass__', '__iter__', '__le__', '__len__', '__lt__', '__mul__', '__ne__', '__new__', '__reduce__', '__reduce_ex__', '__repr__', '__reversed__', '__rmul__', '__setattr__', '__setitem__', '__sizeof__', '__str__', '__subclasshook__', 'append', 'clear', 'copy', 'count', 'extend', 'index', 'insert', 'pop', 'remove', 'reverse', 'sort']\n"
     ]
    }
   ],
   "source": [
    "def explore_object(obj, name):\n",
    "    \"\"\"Исследует объект и выводит информацию о нем.\"\"\"\n",
    "    print(f\"\\n=== {name} ===\")\n",
    "    print(f\"Значение: {obj}\")\n",
    "    print(f\"Тип: {type(obj)}\")\n",
    "    print(f\"ID: {id(obj)}\")\n",
    "    print(f\"Методы: {dir(obj)}\")\n",
    "\n",
    "\n",
    "explore_object(42, \"Целое число\")\n",
    "explore_object(\"Hello\", \"Строка\")\n",
    "explore_object([1, 2, 3], \"Список\")"
   ]
  },
  {
   "cell_type": "markdown",
   "id": "9c36c542",
   "metadata": {},
   "source": [
    "### Исследование объектов. Функции id, type, isinstance\n",
    "\n",
    "`id` - возвращает уникальный идентификатор объекта\n",
    "\n",
    "`type` - возвращает тип объекта\n",
    "\n",
    "`isinstance` - проверяет, является ли объект экземпляром класса"
   ]
  },
  {
   "cell_type": "code",
   "execution_count": 24,
   "id": "3a801e31",
   "metadata": {},
   "outputs": [
    {
     "name": "stdout",
     "output_type": "stream",
     "text": [
      "2354912392640\n",
      "2354887211648\n",
      "False\n"
     ]
    }
   ],
   "source": [
    "x = [1, 2, 3]\n",
    "y = [1, 2, 3]\n",
    "print(id(x))  \n",
    "print(id(y))  \n",
    "print(x is y)  # False - разные объекты"
   ]
  },
  {
   "cell_type": "code",
   "execution_count": 31,
   "id": "471469e8",
   "metadata": {},
   "outputs": [
    {
     "name": "stdout",
     "output_type": "stream",
     "text": [
      "id a = 140712105297096\n",
      "id b = 140712105297096\n",
      "\n",
      "id x = 2354886518864\n",
      "id y = 2354886515888\n"
     ]
    }
   ],
   "source": [
    "a = 10\n",
    "b = 10\n",
    "print(f\"id a = {id(a)}\\nid b = {id(b)}\\n\")\n",
    "\n",
    "x = 100500\n",
    "y = 100500\n",
    "print(f\"id x = {id(x)}\\nid y = {id(y)}\")"
   ]
  },
  {
   "cell_type": "code",
   "execution_count": 29,
   "id": "e637a29a",
   "metadata": {},
   "outputs": [
    {
     "name": "stdout",
     "output_type": "stream",
     "text": [
      "<class 'int'>\n",
      "<class 'str'>\n",
      "<class 'list'>\n"
     ]
    }
   ],
   "source": [
    "print(type(42))        # <class 'int'>\n",
    "print(type(\"hello\"))   # <class 'str'>\n",
    "print(type([1, 2, 3])) # <class 'list'>"
   ]
  },
  {
   "cell_type": "code",
   "execution_count": 74,
   "id": "a9024866",
   "metadata": {},
   "outputs": [
    {
     "name": "stdout",
     "output_type": "stream",
     "text": [
      "True\n",
      "False\n",
      "True\n",
      "True\n"
     ]
    }
   ],
   "source": [
    "x = [1, 2, 3]\n",
    "print(isinstance(x, list))                # True\n",
    "print(isinstance(x, str))                 # False\n",
    "print(isinstance(x, object))              # True - всё наследуется от object\n",
    "print(isinstance(x, (str, list, tuple)))  # Можно перечислить в скобках, какие типы ищем"
   ]
  },
  {
   "cell_type": "markdown",
   "id": "08f6b927",
   "metadata": {},
   "source": [
    "### Неизменяемые типы данных\n",
    "\n",
    "* `str` - строка\n",
    "* `int` - целое число\n",
    "* `float` - вещественное число\n",
    "* `bool` - булево значение (`True`/`False`)\n",
    "* `tuple` - кортеж\n",
    "* `frozenset` - неизменяемое множество\n",
    "\n",
    "Любая попытка изменить неизменяемый объект создает новый объект, а не модифицирует существующий. Это можно увидеть по изменению id объекта."
   ]
  },
  {
   "cell_type": "code",
   "execution_count": 38,
   "id": "016dde73",
   "metadata": {},
   "outputs": [
    {
     "name": "stdout",
     "output_type": "stream",
     "text": [
      "140712105296808\n",
      "140712105296840\n",
      "140712105296872\n"
     ]
    }
   ],
   "source": [
    "number = 1\n",
    "print(id(number))\n",
    "number += 1\n",
    "print(id(number))\n",
    "number = number + 1\n",
    "print(id(number))"
   ]
  },
  {
   "cell_type": "code",
   "execution_count": 39,
   "id": "cc9eebae",
   "metadata": {},
   "outputs": [
    {
     "name": "stdout",
     "output_type": "stream",
     "text": [
      "2354892865136\n",
      "2354912593776\n",
      "2354912595376\n",
      "2354912602544\n"
     ]
    }
   ],
   "source": [
    "string = \"I like Python\"\n",
    "print(id(string))\n",
    "string += \"very much\"\n",
    "print(id(string))\n",
    "string = string + \"!\"\n",
    "print(id(string))\n",
    "string = string[:13]\n",
    "print(id(string))"
   ]
  },
  {
   "cell_type": "markdown",
   "id": "8e8711ab",
   "metadata": {},
   "source": [
    "### Изменяемые типы данных\n",
    "\n",
    "* `list` - список\n",
    "* `dict` - словарь\n",
    "* `set` - множество\n",
    "\n",
    "При создании изменяемого объекта, в переменной хранится ссылка на \"тело\" объекта. Содержимое объекта может быть изменено без создания нового объекта. Это можно увидеть по тому, что id объекта не изменяется."
   ]
  },
  {
   "cell_type": "code",
   "execution_count": 66,
   "id": "fd0534dd",
   "metadata": {},
   "outputs": [
    {
     "name": "stdout",
     "output_type": "stream",
     "text": [
      "x: [1, 2, 3];             id x: 2354891364352\n",
      "x: [1, 2, 3, 4];          id x: 2354891364352\n",
      "x: [1, 2, 3, 4, 5];       id x: 2354891364352\n",
      "x: [1, 2, 3, 4, 5, 6];    id x: 2354891895616\n"
     ]
    }
   ],
   "source": [
    "x = [1, 2, 3]\n",
    "print(f\"x: {x}; {\" \" * (12)}id x: {id(x)}\")\n",
    "x.append(4)\n",
    "print(f\"x: {x}; {\" \" * (9)}id x: {id(x)}\")\n",
    "x += [5]\n",
    "print(f\"x: {x}; {\" \" * (6)}id x: {id(x)}\")\n",
    "x = x + [6]                      # здесь мы пересоздаём объект\n",
    "print(f\"x: {x}; {\" \" * (3)}id x: {id(x)}\")  # поэтому id поменяется"
   ]
  },
  {
   "cell_type": "markdown",
   "id": "95e8f8f9",
   "metadata": {},
   "source": [
    "## Семинар. Самостоятельная работа\n",
    "\n",
    "### Повторение базового синтаксиса"
   ]
  },
  {
   "cell_type": "code",
   "execution_count": 68,
   "id": "7b519348",
   "metadata": {},
   "outputs": [
    {
     "name": "stdout",
     "output_type": "stream",
     "text": [
      "Взрослый\n",
      "0\n",
      "1\n",
      "2\n",
      "3\n",
      "4\n"
     ]
    },
    {
     "data": {
      "text/plain": [
       "'Привет, Паша!'"
      ]
     },
     "execution_count": 68,
     "metadata": {},
     "output_type": "execute_result"
    }
   ],
   "source": [
    "# Переменные\n",
    "name = \"Python\"\n",
    "age = 30\n",
    "\n",
    "# Условия\n",
    "if age > 18:\n",
    "    print(\"Взрослый\")\n",
    "else:\n",
    "    print(\"Ребенок\")\n",
    "\n",
    "# Циклы\n",
    "for i in range(5):\n",
    "    print(i)\n",
    "\n",
    "\n",
    "# Функции\n",
    "def greet(name):\n",
    "    return f\"Привет, {name}!\"\n",
    "greet(\"Паша\")"
   ]
  },
  {
   "cell_type": "markdown",
   "id": "2ac5c313",
   "metadata": {},
   "source": [
    "### Задание 1\n",
    "\n",
    "Установите пределы, в которых целые числа кэшируются."
   ]
  },
  {
   "cell_type": "code",
   "execution_count": 73,
   "id": "7a5598d3",
   "metadata": {},
   "outputs": [],
   "source": [
    "# Ваш код"
   ]
  },
  {
   "cell_type": "markdown",
   "id": "3a997799",
   "metadata": {},
   "source": [
    "### Задание 2\n",
    "\n",
    "Напишите функцию, которая добавляет в список заданный элемент, только если он -- целое или вещественное число."
   ]
  },
  {
   "cell_type": "code",
   "execution_count": null,
   "id": "a41292fe",
   "metadata": {},
   "outputs": [],
   "source": [
    "def append_number(lst, num):\n",
    "    if # условие того, что `num` - это число.:\n",
    "        ...  # Ваш код\n",
    "    else:\n",
    "        print(\"Функция не выполнена. num должен быть числом\")\n",
    "\n",
    "\n",
    "lst = [1, 2]\n",
    "append_number(lst, 3)\n",
    "append_number(lst, 4.2)\n",
    "append_number(lst, \"21\")\n",
    "print(lst)\n"
   ]
  },
  {
   "cell_type": "markdown",
   "id": "1476663d",
   "metadata": {},
   "source": [
    "### Задание 3\n",
    "\n",
    "Проверьте поведение оператора `is` для больших чисел внутри функции. "
   ]
  },
  {
   "cell_type": "code",
   "execution_count": null,
   "id": "3f42ac2f",
   "metadata": {},
   "outputs": [
    {
     "data": {
      "text/plain": [
       "bool"
      ]
     },
     "execution_count": 78,
     "metadata": {},
     "output_type": "execute_result"
    }
   ],
   "source": []
  },
  {
   "cell_type": "code",
   "execution_count": null,
   "id": "4b3f5946",
   "metadata": {},
   "outputs": [],
   "source": []
  }
 ],
 "metadata": {
  "kernelspec": {
   "display_name": ".venv",
   "language": "python",
   "name": "python3"
  },
  "language_info": {
   "codemirror_mode": {
    "name": "ipython",
    "version": 3
   },
   "file_extension": ".py",
   "mimetype": "text/x-python",
   "name": "python",
   "nbconvert_exporter": "python",
   "pygments_lexer": "ipython3",
   "version": "3.13.4"
  }
 },
 "nbformat": 4,
 "nbformat_minor": 5
}
