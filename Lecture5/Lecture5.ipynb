{
 "cells": [
  {
   "cell_type": "markdown",
   "id": "499cbda6",
   "metadata": {},
   "source": [
    "## Финальное занятие.\n",
    "\n",
    "Сегодня мы разберём ещё некоторые куски кода, которые выдают неожиданный результат, объясним причины и займёмся повторением."
   ]
  },
  {
   "cell_type": "code",
   "execution_count": 11,
   "id": "c352cf9b",
   "metadata": {},
   "outputs": [
    {
     "name": "stdout",
     "output_type": "stream",
     "text": [
      "[2, 2, 2]\n"
     ]
    }
   ],
   "source": [
    "funcs = []\n",
    "\n",
    "for i in range(3):\n",
    "    def f():\n",
    "        return i\n",
    "    funcs.append(f)\n",
    "\n",
    "results = [func() for func in funcs]\n",
    "print(results)\n"
   ]
  },
  {
   "cell_type": "code",
   "execution_count": 15,
   "id": "809053c2",
   "metadata": {},
   "outputs": [
    {
     "name": "stdout",
     "output_type": "stream",
     "text": [
      "[4, 4, 4]\n"
     ]
    }
   ],
   "source": [
    "from __future__ import annotations\n",
    "from math import nan\n",
    "from typing import Callable, Iterable, List\n",
    "\n",
    "def make_adders_bad(ns: Iterable[int]) -> List[Callable[[int], int]]:\n",
    "    \"\"\"Плохая фабрика: все функции используют одно и то же n (последнее).\"\"\"\n",
    "    adders = []\n",
    "    for n in ns:\n",
    "        def add() -> int:\n",
    "            return 1 + n  # n поздно связывается\n",
    "        adders.append(add)\n",
    "    return adders\n",
    "\n",
    "print([f() for f in make_adders_bad([1, 2, 3])])"
   ]
  },
  {
   "cell_type": "code",
   "execution_count": 16,
   "id": "918c4cf6",
   "metadata": {},
   "outputs": [
    {
     "name": "stdout",
     "output_type": "stream",
     "text": [
      "[2, 3, 4]\n"
     ]
    }
   ],
   "source": [
    "def make_adders_good(ns: Iterable[int]) -> List[Callable[[int], int]]:\n",
    "    \"\"\"Хорошая фабрика: фиксируем n через аргумент по умолчанию.\"\"\"\n",
    "    adders = []\n",
    "    for n in ns:\n",
    "        def add(n=n) -> int:\n",
    "            return 1 + n\n",
    "        adders.append(add)\n",
    "    return adders\n",
    "\n",
    "\n",
    "print([f() for f in make_adders_good([1, 2, 3])])"
   ]
  },
  {
   "cell_type": "code",
   "execution_count": 14,
   "id": "a2faaabb",
   "metadata": {},
   "outputs": [
    {
     "name": "stdout",
     "output_type": "stream",
     "text": [
      "False\n",
      "False\n",
      "False\n"
     ]
    }
   ],
   "source": [
    "def demo_nan_chain() -> None:\n",
    "    \"\"\"NaN ломает упорядоченные сравнения (всегда False).\"\"\"\n",
    "    x = 5.0\n",
    "    print(x < nan)              # False\n",
    "    print(nan < x)              # False\n",
    "    print(0 < nan < 10)         # False\n",
    "\n",
    "demo_nan_chain()"
   ]
  },
  {
   "cell_type": "code",
   "execution_count": 9,
   "id": "5c9ed272",
   "metadata": {},
   "outputs": [
    {
     "name": "stdout",
     "output_type": "stream",
     "text": [
      "2\n",
      "10\n",
      "3\n",
      "fallback\n",
      "data\n",
      "0\n",
      "123\n"
     ]
    }
   ],
   "source": [
    "def demo_boolean_arithmetic() -> None:\n",
    "    \"\"\"Булева арифметика и возвращаемые значения and/or.\"\"\"\n",
    "    print(True + True)          # 2\n",
    "    print(True * 10)            # 10\n",
    "    print(sum([True, False, True, True]))  # 3\n",
    "\n",
    "    # and/or возвращают операнды\n",
    "    print(\"\" or \"fallback\")     # 'fallback'\n",
    "    print(\"data\" or \"fallback\") # 'data'\n",
    "    print(0 and 123)            # 0\n",
    "    print(999 and 123)            # 123\n",
    "\n",
    "demo_boolean_arithmetic()"
   ]
  },
  {
   "cell_type": "code",
   "execution_count": 3,
   "id": "daca46b0",
   "metadata": {},
   "outputs": [
    {
     "name": "stdout",
     "output_type": "stream",
     "text": [
      "all, fully true:  True\n",
      "all, fully false: False\n",
      "all, partially true:  False\n",
      "===================================\n",
      "any, fully true: True\n",
      "any, fully false: False\n",
      "any, partially true: True\n"
     ]
    }
   ],
   "source": [
    "def all_any_demo():\n",
    "    \"\"\"\n",
    "    all -- возвращает True, если все элементы списка правдивы\n",
    "    any -- возвращает True, если хотя бы один элемент списка правдив\n",
    "    \"\"\"\n",
    "\n",
    "    fully_true = [\"abc\", 12, True]\n",
    "    fully_false = [\"\", False, 0, []]\n",
    "    partially_true = [\"lala\", 0.0, True, {}]\n",
    "\n",
    "    print(f\"all, fully true:  {all(fully_true)}\")\n",
    "    print(f\"all, fully false: {all(fully_false)}\")\n",
    "    print(f\"all, partially true:  {all(partially_true)}\")\n",
    "\n",
    "    print(\"===================================\")\n",
    "\n",
    "    print(f\"any, fully true: {any(fully_true)}\")\n",
    "    print(f\"any, fully false: {any(fully_false)}\")\n",
    "    print(f\"any, partially true: {any(partially_true)}\")\n",
    "\n",
    "all_any_demo()"
   ]
  },
  {
   "cell_type": "code",
   "execution_count": null,
   "id": "90077a97",
   "metadata": {},
   "outputs": [],
   "source": [
    "def between(x: float, lo: float, hi: float) -> bool:\n",
    "    \"\"\"Верните True, если lo <= x < hi, используя цепное сравнение.\"\"\"\n",
    "    # Ваш код здесь\n",
    "    ..."
   ]
  },
  {
   "cell_type": "code",
   "execution_count": null,
   "id": "7ec0b23e",
   "metadata": {},
   "outputs": [],
   "source": [
    "def count_truthy(values: Iterable[object]) -> int:\n",
    "    \"\"\"Подсчитайте количество 'истинных' значений с помощью булевой арифметики.\"\"\"\n",
    "    # Подсказка: приведите к bool и используйте sum\n",
    "    ..."
   ]
  },
  {
   "cell_type": "code",
   "execution_count": null,
   "id": "845c5c26",
   "metadata": {},
   "outputs": [],
   "source": [
    "def safe_div(a: float, b: float) -> float | None:\n",
    "    \"\"\"Верните a/b или None, если b == 0, без if (используя and/or).\"\"\"\n",
    "    ..."
   ]
  },
  {
   "cell_type": "code",
   "execution_count": null,
   "id": "6b59a7a8",
   "metadata": {},
   "outputs": [],
   "source": [
    "def all_strictly_increasing(seq: List[int]) -> bool:\n",
    "    \"\"\"Проверьте, что s0 < s1 < s2 < ... \n",
    "    Со звёздочкой: Сделайте это одним выражением\n",
    "    \"\"\"\n",
    "    ..."
   ]
  }
 ],
 "metadata": {
  "kernelspec": {
   "display_name": "Python 3",
   "language": "python",
   "name": "python3"
  },
  "language_info": {
   "codemirror_mode": {
    "name": "ipython",
    "version": 3
   },
   "file_extension": ".py",
   "mimetype": "text/x-python",
   "name": "python",
   "nbconvert_exporter": "python",
   "pygments_lexer": "ipython3",
   "version": "3.13.4"
  }
 },
 "nbformat": 4,
 "nbformat_minor": 5
}
