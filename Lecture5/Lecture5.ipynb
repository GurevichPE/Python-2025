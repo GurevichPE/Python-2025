{
 "cells": [
  {
   "cell_type": "markdown",
   "id": "499cbda6",
   "metadata": {},
   "source": [
    "## Финальное занятие.\n",
    "\n",
    "Сегодня мы разберём ещё некоторые куски кода, которые выдают неожиданный результат, объясним причины и займёмся повторением."
   ]
  },
  {
   "cell_type": "code",
   "execution_count": null,
   "id": "c352cf9b",
   "metadata": {},
   "outputs": [],
   "source": [
    "funcs = []\n",
    "\n",
    "for i in range(3):\n",
    "    def f():\n",
    "        return i\n",
    "    funcs.append(f)\n",
    "\n",
    "results = [func() for func in funcs]\n",
    "print(results)\n"
   ]
  },
  {
   "cell_type": "code",
   "execution_count": null,
   "id": "809053c2",
   "metadata": {},
   "outputs": [],
   "source": [
    "from __future__ import annotations\n",
    "from functools import partial\n",
    "from math import nan\n",
    "from typing import Callable, Iterable, List\n",
    "\n",
    "\n",
    "def demo_late_binding_bad() -> None:\n",
    "    \"\"\"Плохой пример: замыкания берут одно и то же последнее значение i.\"\"\"\n",
    "    funcs: List[Callable[[], int]] = [lambda: i for i in range(3)]\n",
    "    print([f() for f in funcs])  # [2, 2, 2]\n",
    "\n",
    "\n",
    "def demo_late_binding_fixed_defaults() -> None:\n",
    "    \"\"\"Исправление через значения по умолчанию.\"\"\"\n",
    "    funcs: List[Callable[[], int]] = [lambda i=i: i for i in range(3)]\n",
    "    print([f() for f in funcs])  # [0, 1, 2]\n",
    "\n",
    "\n",
    "def demo_late_binding_partial() -> None:\n",
    "    \"\"\"Исправление через partial.\"\"\"\n",
    "    def show(v: int) -> int:\n",
    "        return v\n",
    "    funcs = [partial(show, i) for i in range(3)]\n",
    "    print([f() for f in funcs])  # [0, 1, 2]\n",
    "\n",
    "\n",
    "def make_adders_bad(ns: Iterable[int]) -> List[Callable[[int], int]]:\n",
    "    \"\"\"Плохая фабрика: все функции используют одно и то же n (последнее).\"\"\"\n",
    "    adders = []\n",
    "    for n in ns:\n",
    "        def add(x: int) -> int:\n",
    "            return x + n  # n поздно связывается\n",
    "        adders.append(add)\n",
    "    return adders\n",
    "\n",
    "\n",
    "def make_adders_good(ns: Iterable[int]) -> List[Callable[[int], int]]:\n",
    "    \"\"\"Хорошая фабрика: фиксируем n через аргумент по умолчанию.\"\"\"\n",
    "    adders = []\n",
    "    for n in ns:\n",
    "        def add(x: int, n=n) -> int:\n",
    "            return x + n\n",
    "        adders.append(add)\n",
    "    return adders\n",
    "\n",
    "\n",
    "def demo_chained_comparisons() -> None:\n",
    "    \"\"\"Показывает поведение цепных сравнений.\"\"\"\n",
    "    a, b, c = 1, 2, 3\n",
    "    print(a < b < c)            # True (a<b and b<c)\n",
    "    print((a < b) < c)          # True, т.к. (a<b)==True, True==1, 1<3 → True\n",
    "    print(0 < b == 2)           # True (0<b and b==2)\n",
    "    print(1 == True == 1)       # True (1==True and True==1)\n",
    "    print(1 == (True == 1))     # True, но другая группировка\n",
    "\n",
    "\n",
    "def demo_nan_chain() -> None:\n",
    "    \"\"\"NaN ломает упорядоченные сравнения (всегда False).\"\"\"\n",
    "    x = 5.0\n",
    "    print(x < nan)              # False\n",
    "    print(nan < x)              # False\n",
    "    print(0 < nan < 10)         # False\n",
    "\n",
    "\n",
    "def demo_boolean_arithmetic() -> None:\n",
    "    \"\"\"Булева арифметика и возвращаемые значения and/or.\"\"\"\n",
    "    print(True + True)          # 2\n",
    "    print(True * 10)            # 10\n",
    "    print(sum([True, False, True, True]))  # 3\n",
    "\n",
    "    # and/or возвращают операнды\n",
    "    print(\"\" or \"fallback\")     # 'fallback'\n",
    "    print(\"data\" or \"fallback\") # 'data'\n",
    "    print(0 and 123)            # 0\n",
    "    print(5 and 123)            # 123\n",
    "\n",
    "    # Ложные значения: 0, 0.0, '', [], {}, set(), None, False\n",
    "    print(bool(\"False\"))        # True (непустая строка истинна)"
   ]
  },
  {
   "cell_type": "code",
   "execution_count": null,
   "id": "90077a97",
   "metadata": {},
   "outputs": [],
   "source": [
    "def between(x: float, lo: float, hi: float) -> bool:\n",
    "    \"\"\"Верните True, если lo <= x < hi, используя цепное сравнение.\"\"\"\n",
    "    # Ваш код здесь\n",
    "    ..."
   ]
  },
  {
   "cell_type": "code",
   "execution_count": null,
   "id": "7ec0b23e",
   "metadata": {},
   "outputs": [],
   "source": [
    "def count_truthy(values: Iterable[object]) -> int:\n",
    "    \"\"\"Подсчитайте количество 'истинных' значений с помощью булевой арифметики.\"\"\"\n",
    "    # Подсказка: приведите к bool и используйте sum\n",
    "    ..."
   ]
  },
  {
   "cell_type": "code",
   "execution_count": null,
   "id": "d919f67d",
   "metadata": {},
   "outputs": [],
   "source": [
    "def coalesce(*values: object) -> object:\n",
    "    \"\"\"Верните первое 'истинное' значение из списка, иначе последнее.\"\"\"\n",
    "    # Подсказка: используйте or\n",
    "    ..."
   ]
  },
  {
   "cell_type": "code",
   "execution_count": null,
   "id": "845c5c26",
   "metadata": {},
   "outputs": [],
   "source": [
    "def safe_div(a: float, b: float) -> float | None:\n",
    "    \"\"\"Верните a/b или None, если b == 0, без if (используя and/or).\"\"\"\n",
    "    # Осторожно: шаблон a and b or c работает неверно, если b 'ложное'\n",
    "    ..."
   ]
  },
  {
   "cell_type": "code",
   "execution_count": null,
   "id": "6b59a7a8",
   "metadata": {},
   "outputs": [],
   "source": [
    "def all_strictly_increasing(seq: List[int]) -> bool:\n",
    "    \"\"\"Проверьте, что s0 < s1 < s2 < ... с одним выражением.\"\"\"\n",
    "    # Подсказка: используйте all и цепное сравнение в генераторе\n",
    "    ..."
   ]
  }
 ],
 "metadata": {
  "language_info": {
   "name": "python"
  }
 },
 "nbformat": 4,
 "nbformat_minor": 5
}
